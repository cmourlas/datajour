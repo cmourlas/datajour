{
 "cells": [
  {
   "cell_type": "code",
   "execution_count": 1,
   "metadata": {
    "collapsed": true
   },
   "outputs": [],
   "source": [
    "from urllib.request import urlopen\n",
    "from bs4 import BeautifulSoup\n"
   ]
  },
  {
   "cell_type": "code",
   "execution_count": 2,
   "metadata": {
    "collapsed": true
   },
   "outputs": [],
   "source": [
    "my_url = 'https://tribecafilm.com/filmguide?letter=a'\n",
    "\n",
    "raw_html = urlopen(my_url).read()\n",
    "soup_doc = BeautifulSoup(raw_html, \"html.parser\")"
   ]
  },
  {
   "cell_type": "code",
   "execution_count": 3,
   "metadata": {},
   "outputs": [
    {
     "data": {
      "text/plain": [
       "<title>Film Guide | Tribeca</title>"
      ]
     },
     "execution_count": 3,
     "metadata": {},
     "output_type": "execute_result"
    }
   ],
   "source": [
    "soup_doc.title"
   ]
  },
  {
   "cell_type": "code",
   "execution_count": 4,
   "metadata": {
    "collapsed": true
   },
   "outputs": [],
   "source": [
    "all_movies = soup_doc.find_all('article')"
   ]
  },
  {
   "cell_type": "code",
   "execution_count": 5,
   "metadata": {},
   "outputs": [
    {
     "data": {
      "text/plain": [
       "<article>\n",
       "<section class=\"infoBlock cf \">\n",
       "<div class=\"marqueePhoto\">\n",
       "<a class=\"filmImg imageLoader\" href=\"/filmguide/aardvark-2017\" loader-style=\"fade\"><img alt=\"Medium_tff17_aardvark_1\" src=\"https://s3.amazonaws.com/tribeca_cms_production/uploads/film/photo_1/58c72e9bd4558f731c00031b/medium_TFF17_Aardvark_1.jpg\"/></a>\n",
       "</div>\n",
       "<div class=\"left\">\n",
       "<h1 class=\"headerTitle\">\n",
       "<a href=\"/filmguide/aardvark-2017\">AARDVARK</a>\n",
       "</h1>\n",
       "<div class=\"headerTags\">\n",
       "<a class=\"texticon\" href=\"/filmguide/archive?year=2017\">TFF 2017</a>\n",
       "<a class=\"texticon\" href=\"/filmguide?film_type=Narrative\">Narrative</a>\n",
       "<a class=\"texticon\" href=\"/filmguide?film_duration=Feature\">Feature</a>\n",
       "</div>\n",
       "<ul class=\"filmDetails\">\n",
       "<li>Section: US Narrative Competition</li>\n",
       "<li>Release Year: 2017</li>\n",
       "<li>Runtime: 89 minutes</li>\n",
       "<li>\n",
       "                        Directed By:\n",
       "\n",
       "                    Brian Shoaf\n",
       "\n",
       "                  </li>\n",
       "<li>Country:\n",
       "                    <a href=\"/filmguide?country=512cd41e1c7d768969000001\">USA</a>\n",
       "</li>\n",
       "</ul>\n",
       "</div>\n",
       "</section>\n",
       "<section class=\"synopsis\">\n",
       "        While battling her own anxieties, therapist Emily Milburton (Jenny Slate) spends her time listening to other people’s problems. Her professional and personal worlds collide when Emily’s newest patient, Josh Norman (Zachary Quinto), walks through her door. Mentally ill and experiencing hallucinations, Josh harbors complex feelings for his estranged brother, Craig (Jon Hamm). Things begin to get interesting when Emily falls for Craig. | <a class=\"readMore\" href=\"/filmguide/aardvark-2017\">Read More</a>\n",
       "</section>\n",
       "<section class=\"genres\">\n",
       "<a href=\"/filmguide?genre=512cd8461c7d76e04600000d\">Drama</a>, <a href=\"/filmguide?genre=53208976c07f5df7d2000002\">NY Director(s)</a>, <a href=\"/filmguide?genre=532089a4c07f5df7d200014d\">First Time Filmmaker</a> </section>\n",
       "</article>"
      ]
     },
     "execution_count": 5,
     "metadata": {},
     "output_type": "execute_result"
    }
   ],
   "source": [
    "all_movies[0]"
   ]
  },
  {
   "cell_type": "code",
   "execution_count": 6,
   "metadata": {},
   "outputs": [
    {
     "data": {
      "text/plain": [
       "<div class=\"left\">\n",
       "<h1 class=\"headerTitle\">\n",
       "<a href=\"/filmguide/aardvark-2017\">AARDVARK</a>\n",
       "</h1>\n",
       "<div class=\"headerTags\">\n",
       "<a class=\"texticon\" href=\"/filmguide/archive?year=2017\">TFF 2017</a>\n",
       "<a class=\"texticon\" href=\"/filmguide?film_type=Narrative\">Narrative</a>\n",
       "<a class=\"texticon\" href=\"/filmguide?film_duration=Feature\">Feature</a>\n",
       "</div>\n",
       "<ul class=\"filmDetails\">\n",
       "<li>Section: US Narrative Competition</li>\n",
       "<li>Release Year: 2017</li>\n",
       "<li>Runtime: 89 minutes</li>\n",
       "<li>\n",
       "                        Directed By:\n",
       "\n",
       "                    Brian Shoaf\n",
       "\n",
       "                  </li>\n",
       "<li>Country:\n",
       "                    <a href=\"/filmguide?country=512cd41e1c7d768969000001\">USA</a>\n",
       "</li>\n",
       "</ul>\n",
       "</div>"
      ]
     },
     "execution_count": 6,
     "metadata": {},
     "output_type": "execute_result"
    }
   ],
   "source": [
    "#all_movies[0].find(class_='left')\n",
    "movie_info = all_movies[0].find('div', attrs={'class':'left'})\n",
    "movie_info"
   ]
  },
  {
   "cell_type": "code",
   "execution_count": 7,
   "metadata": {},
   "outputs": [
    {
     "data": {
      "text/plain": [
       "<a href=\"/filmguide/aardvark-2017\">AARDVARK</a>"
      ]
     },
     "execution_count": 7,
     "metadata": {},
     "output_type": "execute_result"
    }
   ],
   "source": [
    "movie_info.a"
   ]
  },
  {
   "cell_type": "code",
   "execution_count": 8,
   "metadata": {},
   "outputs": [
    {
     "data": {
      "text/plain": [
       "[<a href=\"/filmguide/aardvark-2017\">AARDVARK</a>,\n",
       " <a class=\"texticon\" href=\"/filmguide/archive?year=2017\">TFF 2017</a>,\n",
       " <a class=\"texticon\" href=\"/filmguide?film_type=Narrative\">Narrative</a>,\n",
       " <a class=\"texticon\" href=\"/filmguide?film_duration=Feature\">Feature</a>,\n",
       " <a href=\"/filmguide?country=512cd41e1c7d768969000001\">USA</a>]"
      ]
     },
     "execution_count": 8,
     "metadata": {},
     "output_type": "execute_result"
    }
   ],
   "source": [
    "movie_info.find_all('a')"
   ]
  },
  {
   "cell_type": "code",
   "execution_count": 9,
   "metadata": {},
   "outputs": [
    {
     "data": {
      "text/plain": [
       "[<li>Section: US Narrative Competition</li>,\n",
       " <li>Release Year: 2017</li>,\n",
       " <li>Runtime: 89 minutes</li>,\n",
       " <li>\n",
       "                         Directed By:\n",
       " \n",
       "                     Brian Shoaf\n",
       " \n",
       "                   </li>,\n",
       " <li>Country:\n",
       "                     <a href=\"/filmguide?country=512cd41e1c7d768969000001\">USA</a>\n",
       " </li>]"
      ]
     },
     "execution_count": 9,
     "metadata": {},
     "output_type": "execute_result"
    }
   ],
   "source": [
    "movie_info.find_all('li')"
   ]
  },
  {
   "cell_type": "code",
   "execution_count": 10,
   "metadata": {},
   "outputs": [
    {
     "data": {
      "text/plain": [
       "<div class=\"left\">\n",
       "<h1 class=\"headerTitle\">\n",
       "<a href=\"/filmguide/abundant-acreage-available-2017\">ABUNDANT ACREAGE AVAILABLE</a>\n",
       "</h1>\n",
       "<div class=\"headerTags\">\n",
       "<a class=\"texticon\" href=\"/filmguide/archive?year=2017\">TFF 2017</a>\n",
       "<a class=\"texticon\" href=\"/filmguide?film_type=Narrative\">Narrative</a>\n",
       "<a class=\"texticon\" href=\"/filmguide?film_duration=Feature\">Feature</a>\n",
       "</div>\n",
       "<ul class=\"filmDetails\">\n",
       "<li>Section: US Narrative Competition</li>\n",
       "<li>Release Year: 2017</li>\n",
       "<li>Runtime: 80 minutes</li>\n",
       "<li>\n",
       "                        Directed By:\n",
       "\n",
       "                    Angus MacLachlan\n",
       "\n",
       "                  </li>\n",
       "<li>Country:\n",
       "                    <a href=\"/filmguide?country=512cd41e1c7d768969000001\">USA</a>\n",
       "</li>\n",
       "</ul>\n",
       "</div>"
      ]
     },
     "execution_count": 10,
     "metadata": {},
     "output_type": "execute_result"
    }
   ],
   "source": [
    "movie_info = all_movies[1].find('div', attrs={'class':'left'})\n",
    "movie_info"
   ]
  },
  {
   "cell_type": "code",
   "execution_count": 11,
   "metadata": {},
   "outputs": [
    {
     "name": "stdout",
     "output_type": "stream",
     "text": [
      "5\n",
      "5\n",
      "5\n",
      "5\n",
      "5\n",
      "5\n",
      "5\n",
      "3\n",
      "5\n",
      "5\n"
     ]
    }
   ],
   "source": [
    "for this_movie in all_movies:\n",
    "    movie_info = this_movie.find('div', attrs={'class':'left'})\n",
    "    this_array = movie_info.find_all('a')\n",
    "    print(len(this_array))"
   ]
  },
  {
   "cell_type": "code",
   "execution_count": 12,
   "metadata": {},
   "outputs": [
    {
     "name": "stdout",
     "output_type": "stream",
     "text": [
      "5\n",
      "5\n",
      "5\n",
      "5\n",
      "5\n",
      "5\n",
      "5\n",
      "5\n",
      "5\n",
      "5\n"
     ]
    }
   ],
   "source": [
    "for this_movie in all_movies:\n",
    "    movie_info = this_movie.find('div', attrs={'class':'left'})\n",
    "    this_array = movie_info.find_all('li')\n",
    "    print(len(this_array))"
   ]
  },
  {
   "cell_type": "code",
   "execution_count": null,
   "metadata": {
    "collapsed": true
   },
   "outputs": [],
   "source": []
  }
 ],
 "metadata": {
  "kernelspec": {
   "display_name": "Python 3",
   "language": "python",
   "name": "python3"
  },
  "language_info": {
   "codemirror_mode": {
    "name": "ipython",
    "version": 3
   },
   "file_extension": ".py",
   "mimetype": "text/x-python",
   "name": "python",
   "nbconvert_exporter": "python",
   "pygments_lexer": "ipython3",
   "version": "3.6.1"
  }
 },
 "nbformat": 4,
 "nbformat_minor": 2
}
